{
 "cells": [
  {
   "cell_type": "markdown",
   "metadata": {},
   "source": [
    "# Set Up based on M3\n",
    "\n",
    "dataset: Toys and Games 5-core "
   ]
  },
  {
   "cell_type": "code",
   "execution_count": 1,
   "metadata": {},
   "outputs": [],
   "source": [
    "import json"
   ]
  },
  {
   "cell_type": "code",
   "execution_count": 19,
   "metadata": {},
   "outputs": [],
   "source": [
    "dataset = []\n",
    "with open('10_toy_games.txt') as json_file:\n",
    "    line = json_file.readline()\n",
    "    while line:\n",
    "        dataset.append(json.loads(line))\n",
    "        line = json_file.readline()"
   ]
  },
  {
   "cell_type": "code",
   "execution_count": 22,
   "metadata": {},
   "outputs": [],
   "source": [
    "#@title Generic imports\n",
    "import numpy as np\n",
    "from gym import spaces\n",
    "import matplotlib.pyplot as plt\n",
    "#from scipy import stats"
   ]
  },
  {
   "cell_type": "code",
   "execution_count": 23,
   "metadata": {},
   "outputs": [],
   "source": [
    "#@title RecSim imports\n",
    "from recsim import document\n",
    "from recsim import user\n",
    "from recsim.choice_model import MultinomialLogitChoiceModel\n",
    "from recsim.simulator import environment\n",
    "from recsim.simulator import recsim_gym"
   ]
  },
  {
   "cell_type": "markdown",
   "metadata": {},
   "source": [
    "# A Document Model\n",
    "\n",
    "# TODO need to extract features from json and combine in a separate function during sampling."
   ]
  },
  {
   "cell_type": "code",
   "execution_count": 26,
   "metadata": {},
   "outputs": [],
   "source": [
    "class Document(document.AbstractDocument):\n",
    "    def __init__(self, doc_id, features):\n",
    "        self.features = features\n",
    "        # doc_id is an integer representing the unique ID of this document\n",
    "        super(Document, self).__init__(doc_id)\n",
    "\n",
    "    def create_observation(self):\n",
    "        return np.array([self.features])\n",
    "\n",
    "    @staticmethod\n",
    "    def observation_space():\n",
    "        return spaces.Box(shape=(1,), dtype=np.float32, low=-np.inf, high=np.inf)\n",
    "\n",
    "    def __str__(self):\n",
    "        return \"Document {} with features {}.\".format(self._doc_id, self.features)"
   ]
  },
  {
   "cell_type": "code",
   "execution_count": 45,
   "metadata": {},
   "outputs": [],
   "source": [
    "class DocumentSampler(document.AbstractDocumentSampler):\n",
    "    def __init__(self, data, doc_ctor=Document):\n",
    "        super(DocumentSampler, self).__init__(doc_ctor)\n",
    "        self._doc_count = 0\n",
    "        self._data = data\n",
    "\n",
    "    def sample_document(self):\n",
    "        #sampled_idx = np.random.choice(range(len(self._data)))\n",
    "        doc_features = {}\n",
    "        doc_features['doc_id'] = self._doc_count\n",
    "        doc_features['features'] = self._data[self._doc_count]['overall']\n",
    "        self._doc_count += 1\n",
    "        return self._doc_ctor(**doc_features)"
   ]
  },
  {
   "cell_type": "code",
   "execution_count": 46,
   "metadata": {},
   "outputs": [
    {
     "name": "stdout",
     "output_type": "stream",
     "text": [
      "Document 0 with features 5.0.\n",
      "Document 1 with features 4.0.\n",
      "Document 2 with features 5.0.\n",
      "Document 3 with features 5.0.\n",
      "Document 4 with features 4.0.\n",
      "Documents have observation space: Box(1,) \n",
      "An example realization is:  [3.]\n"
     ]
    }
   ],
   "source": [
    "sampler = DocumentSampler(data=dataset)\n",
    "for i in range(5): print(sampler.sample_document())\n",
    "d = sampler.sample_document()\n",
    "print(\"Documents have observation space:\", d.observation_space(), \"\\n\"\n",
    "      \"An example realization is: \", d.create_observation())"
   ]
  },
  {
   "cell_type": "markdown",
   "metadata": {},
   "source": [
    "# User Model"
   ]
  },
  {
   "cell_type": "code",
   "execution_count": null,
   "metadata": {},
   "outputs": [],
   "source": []
  }
 ],
 "metadata": {
  "kernelspec": {
   "display_name": "Python 3",
   "language": "python",
   "name": "python3"
  },
  "language_info": {
   "codemirror_mode": {
    "name": "ipython",
    "version": 3
   },
   "file_extension": ".py",
   "mimetype": "text/x-python",
   "name": "python",
   "nbconvert_exporter": "python",
   "pygments_lexer": "ipython3",
   "version": "3.8.3"
  }
 },
 "nbformat": 4,
 "nbformat_minor": 4
}
